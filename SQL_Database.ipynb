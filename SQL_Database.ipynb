{
 "cells": [
  {
   "cell_type": "code",
   "execution_count": 141,
   "id": "8c7ab4e8-50bb-4a2c-99ce-db2598ead310",
   "metadata": {},
   "outputs": [],
   "source": [
    "#import libraries\n",
    "import mysql.connector\n",
    "import pandas as pd\n",
    "import numpy as np"
   ]
  },
  {
   "cell_type": "code",
   "execution_count": 147,
   "id": "b3fd330d-6223-493f-bd3f-13b84407559d",
   "metadata": {},
   "outputs": [
    {
     "name": "stdout",
     "output_type": "stream",
     "text": [
      "database created successfully\n"
     ]
    }
   ],
   "source": [
    "#sql connection\n",
    "mydb=mysql.connector.connect(host=\"localhost\", user=\"root\", password=\"\", database=\"data_spark\")\n",
    "my_cursor = mydb.cursor()\n",
    "my_cursor.execute(\"CREATE DATABASE IF NOT EXISTS data_spark\")\n",
    "print(\"database created successfully\")"
   ]
  },
  {
   "cell_type": "code",
   "execution_count": 149,
   "id": "b64b9764-4b1d-4f2c-bc85-6de79a1b88e7",
   "metadata": {},
   "outputs": [],
   "source": [
    "#function to reconnect in case of any connection issue\n",
    "def reconnect():\n",
    "    global mydb, my_cursor\n",
    "    mydb = mysql.connector.connect(\n",
    "        host = \"localhost\",\n",
    "        user = \"root\",\n",
    "        password = \"\",\n",
    "        database = \"data_spark\"\n",
    "    )\n",
    "    my_cursor = mydb.cursor()"
   ]
  },
  {
   "cell_type": "code",
   "execution_count": 169,
   "id": "1cb3848c-2639-4fa2-9eec-088d9b4940c0",
   "metadata": {},
   "outputs": [],
   "source": [
    "df_customers = pd.read_csv(r\"E:/UDHAYA/Project2/new_csv/Customers.csv\", encoding='latin1') \n",
    "df_exchange_rates = pd.read_csv(r\"E:/UDHAYA/Project2/new_csv/Exchange_Rates.csv\")\n",
    "df_products = pd.read_csv(r\"E:/UDHAYA/Project2/new_csv/Products.csv\")\n",
    "df_stores = pd.read_csv(r\"E:/UDHAYA/Project2/new_csv/Stores.csv\")\n",
    "df_sales = pd.read_csv(r\"E:/UDHAYA/Project2/new_csv/Sales.csv\")"
   ]
  },
  {
   "cell_type": "code",
   "execution_count": 153,
   "id": "fb3353bd-b9db-47e2-9bdf-2753f4e29562",
   "metadata": {},
   "outputs": [
    {
     "name": "stdout",
     "output_type": "stream",
     "text": [
      "Table Created successfully\n"
     ]
    }
   ],
   "source": [
    "#customer table creation\n",
    "my_cursor.execute('''CREATE TABLE IF NOT EXISTS customers(\n",
    "                  CustomerKey INT(64),\n",
    "                  Gender VARCHAR(255),\n",
    "                  Name VARCHAR(255),\n",
    "                  City VARCHAR(255),\n",
    "                  State VARCHAR(255),\n",
    "                  Country VARCHAR(255),\n",
    "                  Continent VARCHAR(255),\n",
    "                  Birthday DATE\n",
    "                  )''')\n",
    "print(\"Table Created successfully\")"
   ]
  },
  {
   "cell_type": "code",
   "execution_count": 155,
   "id": "1b88c247-92a9-44a9-9469-d8cc6c92313f",
   "metadata": {},
   "outputs": [
    {
     "name": "stdout",
     "output_type": "stream",
     "text": [
      "Inserted successfully\n"
     ]
    }
   ],
   "source": [
    "# insert values into customer table\n",
    "insert_query='''INSERT INTO customers(\n",
    "                  CustomerKey,\n",
    "                  Gender,\n",
    "                  Name,\n",
    "                  City,\n",
    "                  State,\n",
    "                  Country,\n",
    "                  Continent,\n",
    "                  Birthday)\n",
    "                  VALUES(%s,%s,%s,%s,%s,%s,%s,%s)'''\n",
    "data=df_customers.values.tolist()\n",
    "batch_size = 1000  # Adjust this value as needed\n",
    "\n",
    "for i in range(0, len(data), batch_size):\n",
    "    batch_data = data[i:i + batch_size]\n",
    "    try:\n",
    "        # Performing batch insert with executemany()\n",
    "        my_cursor.executemany(insert_query, batch_data)\n",
    "        mydb.commit()\n",
    "    except mysql.connector.Error as err:\n",
    "        if err.errno == mysql.connector.errorcode.CR_SERVER_LOST or err.errno == mysql.connector.errorcode.CR_SERVER_GONE_ERROR:\n",
    "            reconnect()\n",
    "            my_cursor.executemany(insert_query, batch_data)\n",
    "            mydb.commit()\n",
    "print(\"Inserted successfully\")"
   ]
  },
  {
   "cell_type": "code",
   "execution_count": 159,
   "id": "0c60ae8e-bfc5-4302-b8fb-97fb740cb959",
   "metadata": {},
   "outputs": [
    {
     "name": "stdout",
     "output_type": "stream",
     "text": [
      "Table Created successfully\n",
      "Inserted successfully\n"
     ]
    }
   ],
   "source": [
    "# exchange_rates table creation\n",
    "my_cursor.execute('''CREATE TABLE IF NOT EXISTS exchange_rates(\n",
    "                  Date DATE,\n",
    "                  Currency_Code VARCHAR(255),\n",
    "                  Exchange FLOAT\n",
    "                  )''')\n",
    "print(\"Table Created successfully\")\n",
    "\n",
    "# insert values into exchange_rates table\n",
    "insert_query ='''INSERT INTO exchange_rates(\n",
    "                  Date,\n",
    "                  Currency_Code,\n",
    "                  Exchange)\n",
    "                  VALUES (%s, %s, %s)'''\n",
    "data=df_exchange_rates.values.tolist()\n",
    "batch_size = 1000  # Adjust this value as needed\n",
    "\n",
    "for i in range(0, len(data), batch_size):\n",
    "    batch_data = data[i:i + batch_size]\n",
    "    try:\n",
    "        # Performing batch insert with executemany()\n",
    "        my_cursor.executemany(insert_query, batch_data)\n",
    "        mydb.commit()\n",
    "    except mysql.connector.Error as err:\n",
    "        if err.errno == mysql.connector.errorcode.CR_SERVER_LOST or err.errno == mysql.connector.errorcode.CR_SERVER_GONE_ERROR:\n",
    "            reconnect()\n",
    "            my_cursor.executemany(insert_query, batch_data)\n",
    "            mydb.commit()\n",
    "print(\"Inserted successfully\")"
   ]
  },
  {
   "cell_type": "code",
   "execution_count": 161,
   "id": "7cb8692d-51bc-4ad2-aa2d-30066b13dcfb",
   "metadata": {},
   "outputs": [
    {
     "name": "stdout",
     "output_type": "stream",
     "text": [
      "Table Created successfully\n",
      "Inserted successfully\n"
     ]
    }
   ],
   "source": [
    "# create Products table \n",
    "my_cursor.execute('''CREATE TABLE IF NOT EXISTS products(\n",
    "                  ProductKey INT(64),\n",
    "                  Product_Name VARCHAR(255),\n",
    "                  Brand VARCHAR(255),\n",
    "                  Color VARCHAR(255),\n",
    "                  Unit_Cost_USD FLOAT,\n",
    "                  Unit_Price_USD FLOAT,\n",
    "                  Subcategory VARCHAR(255),\n",
    "                  CategoryKey INT(64),\n",
    "                  Category VARCHAR(255)\n",
    "                  )''')\n",
    "print(\"Table Created successfully\")\n",
    "\n",
    "#insert values into Products table\n",
    "insert_query ='''INSERT INTO products(\n",
    "                  ProductKey,\n",
    "                  Product_Name,\n",
    "                  Brand,\n",
    "                  Color,\n",
    "                  Unit_Cost_USD,\n",
    "                  Unit_Price_USD,\n",
    "                  Subcategory,\n",
    "                  CategoryKey,\n",
    "                  Category)\n",
    "                  VALUES (%s, %s, %s, %s, %s, %s, %s, %s,%s)'''\n",
    "data=df_products.values.tolist()\n",
    "batch_size = 1000  # Adjust this value as needed\n",
    "\n",
    "for i in range(0, len(data), batch_size):\n",
    "    batch_data = data[i:i + batch_size]\n",
    "    try:\n",
    "        # Performing batch insert with executemany()\n",
    "        my_cursor.executemany(insert_query, batch_data)\n",
    "        mydb.commit()\n",
    "    except mysql.connector.Error as err:\n",
    "        if err.errno == mysql.connector.errorcode.CR_SERVER_LOST or err.errno == mysql.connector.errorcode.CR_SERVER_GONE_ERROR:\n",
    "            reconnect()\n",
    "            my_cursor.executemany(insert_query, batch_data)\n",
    "            mydb.commit()\n",
    "print(\"Inserted successfully\")"
   ]
  },
  {
   "cell_type": "code",
   "execution_count": 165,
   "id": "9bdbedb9-3460-48ec-8b29-b92aba00b932",
   "metadata": {},
   "outputs": [
    {
     "name": "stdout",
     "output_type": "stream",
     "text": [
      "Table Created successfully\n",
      "Inserted successfully\n"
     ]
    }
   ],
   "source": [
    "#sales table creation\n",
    "my_cursor.execute('''CREATE TABLE IF NOT EXISTS sales(\n",
    "                  Order_Number INT(64),\n",
    "                  Line_Item INT(64),\n",
    "                  Order_Date DATE,\n",
    "                  Delivery_Date DATE,\n",
    "                  CustomerKey INT(64),\n",
    "                  StoreKey INT(64),\n",
    "                  ProductKey INT(64),\n",
    "                  Quantity INT(64),\n",
    "                  Currency_Code VARCHAR(255)\n",
    "                  )''')\n",
    "print(\"Table Created successfully\")\n",
    "\n",
    "#insert values into sales table\n",
    "insert_query ='''INSERT INTO sales(\n",
    "                  Order_Number,\n",
    "                  Line_Item,\n",
    "                  Order_Date,\n",
    "                  Delivery_Date,\n",
    "                  CustomerKey,\n",
    "                  StoreKey,\n",
    "                  ProductKey,\n",
    "                  Quantity,\n",
    "                  Currency_Code)\n",
    "                  VALUES (%s, %s, %s, %s, %s, %s, %s, %s,%s)'''\n",
    "data=df_sales.values.tolist()\n",
    "batch_size = 1000  # Adjust this value as needed\n",
    "\n",
    "for i in range(0, len(data), batch_size):\n",
    "    batch_data = data[i:i + batch_size]\n",
    "    try:\n",
    "        # Performing batch insert with executemany()\n",
    "        my_cursor.executemany(insert_query, batch_data)\n",
    "        mydb.commit()\n",
    "    except mysql.connector.Error as err:\n",
    "        if err.errno == mysql.connector.errorcode.CR_SERVER_LOST or err.errno == mysql.connector.errorcode.CR_SERVER_GONE_ERROR:\n",
    "            reconnect()\n",
    "            my_cursor.executemany(insert_query, batch_data)\n",
    "            mydb.commit()\n",
    "print(\"Inserted successfully\")"
   ]
  },
  {
   "cell_type": "code",
   "execution_count": 175,
   "id": "47c9349a-e48b-45dd-a13b-3f8e52894a16",
   "metadata": {},
   "outputs": [
    {
     "name": "stdout",
     "output_type": "stream",
     "text": [
      "Table Created successfully\n",
      "Inserted successfully\n"
     ]
    }
   ],
   "source": [
    "#store table creation\n",
    "my_cursor.execute('''CREATE TABLE IF NOT EXISTS stores(\n",
    "                  StoreKey INT,\n",
    "                  Country VARCHAR(255),\n",
    "                  State VARCHAR(255),\n",
    "                  Square_Meters FLOAT,\n",
    "                  Open_Date DATE\n",
    "                  )''')\n",
    "print(\"Table Created successfully\")\n",
    "\n",
    "df_stores.fillna(0)  \n",
    "##insert values into Store table\n",
    "insert_query ='''INSERT INTO stores(\n",
    "                  StoreKey,\n",
    "                  Country,\n",
    "                  State,\n",
    "                  Square_Meters,\n",
    "                  Open_Date)\n",
    "                  VALUES (%s, %s, %s, %s, %s)'''\n",
    "data=df_stores.values.tolist()\n",
    "my_cursor.executemany(insert_query,data)\n",
    "print(\"Inserted successfully\")"
   ]
  },
  {
   "cell_type": "code",
   "execution_count": null,
   "id": "a198d78b-d069-4a22-839b-1b86b633b318",
   "metadata": {},
   "outputs": [],
   "source": []
  }
 ],
 "metadata": {
  "kernelspec": {
   "display_name": "Python 3 (ipykernel)",
   "language": "python",
   "name": "python3"
  },
  "language_info": {
   "codemirror_mode": {
    "name": "ipython",
    "version": 3
   },
   "file_extension": ".py",
   "mimetype": "text/x-python",
   "name": "python",
   "nbconvert_exporter": "python",
   "pygments_lexer": "ipython3",
   "version": "3.12.4"
  }
 },
 "nbformat": 4,
 "nbformat_minor": 5
}
